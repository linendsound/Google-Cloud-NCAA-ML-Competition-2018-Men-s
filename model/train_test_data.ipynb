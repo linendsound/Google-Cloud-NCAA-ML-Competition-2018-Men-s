{
 "cells": [
  {
   "cell_type": "code",
   "execution_count": null,
   "metadata": {},
   "outputs": [
    {
     "name": "stderr",
     "output_type": "stream",
     "text": [
      "C:\\Users\\lin\\Anaconda3\\lib\\site-packages\\pandas\\core\\indexing.py:194: SettingWithCopyWarning: \n",
      "A value is trying to be set on a copy of a slice from a DataFrame\n",
      "\n",
      "See the caveats in the documentation: http://pandas.pydata.org/pandas-docs/stable/indexing.html#indexing-view-versus-copy\n",
      "  self._setitem_with_indexer(indexer, value)\n"
     ]
    }
   ],
   "source": [
    "import pandas as pd\n",
    "df1= pd.read_csv(\"../input/NCAATourneyCompactResults.csv\")\n",
    "df2= pd.read_csv(\"../input/RegularSeasonCompactResults.csv\")\n",
    "df3 = pd.read_csv(\"../input/NCAATourneySeeds.csv\")\n",
    "df1[\"WTseed\"]=\"\"\n",
    "df1[\"LTseed\"]=\"\"\n",
    "\n",
    "def seed_in(df1,df2):\n",
    "    df1=df1.reset_index()\n",
    "    df2=df2.reset_index()\n",
    "    for i in range(len(df1)):\n",
    "        for j in range(len(df2)):\n",
    "            if df1[\"WTeamID\"][i] == df2[\"TeamID\"][j]:\n",
    "                df1[\"WTseed\"].loc[i]=df2[\"Seed\"][j][1:]\n",
    "    for i in range(len(df1)):\n",
    "        for j in range(len(df2)):\n",
    "            if df1[\"LTeamID\"][i] == df2[\"TeamID\"][j]:\n",
    "                df1[\"LTseed\"].loc[i]=df2[\"Seed\"][j][1:]\n",
    "    return df1\n",
    "\n",
    "\n",
    "def whole_season(year, df):\n",
    "    Regular_year1 = df1[df1[\"Season\"] == year]\n",
    "    Tourney_year1 = df2[df2[\"Season\"] == year]\n",
    "    Whole_year1 = pd.concat([Regular_year1, Tourney_year1], ignore_index=True)\n",
    "    Seed = df[df[\"Season\"]==year]\n",
    "    Whole_year=seed_in(Whole_year1,Seed)\n",
    "    return Whole_year\n",
    "\n",
    "\n",
    "def datamake(year1,year2,year3,df1,df3):\n",
    "    Whole_year1=whole_season(year1,df3)\n",
    "    Whole_year2 = whole_season(year2, df3)\n",
    "    Seed = df3[df3[\"Season\"] == year3]\n",
    "    Regular_year3 = df1[df1[\"Season\"] == year3]\n",
    "    Regular_year3 = seed_in(Regular_year3,Seed)\n",
    "    data = pd.concat([Regular_year3,Whole_year1,Whole_year2],ignore_index=True)\n",
    "    return data\n",
    "\n",
    "\n",
    "train_2014 = datamake(2012,2013,2014,df1,df3)\n",
    "train_2015 = datamake(2013,2014,2015,df1,df3)\n",
    "train_2016 = datamake(2014,2015,206,df1,df3)\n",
    "train_2017 =datamake(2015,2016,2017,df1,df3)\n",
    "\n",
    "train_2014.to_csv(\"../output/train_2014.csv\")\n",
    "train_2015.to_csv(\"../output/train_2015.cvv\")\n",
    "train_2016.to_csv(\"../output/train_2016.csv\")\n",
    "train_2017.to_csv(\"../output/train_2017.csv\")\n"
   ]
  },
  {
   "cell_type": "code",
   "execution_count": 1,
   "metadata": {},
   "outputs": [],
   "source": [
    "import pandas as pd\n",
    "df1= pd.read_csv(\"../input/NCAATourneyCompactResults.csv\")\n",
    "df2= pd.read_csv(\"../input/RegularSeasonCompactResults.csv\")\n",
    "df3 = pd.read_csv(\"../input/NCAATourneySeeds.csv\")"
   ]
  },
  {
   "cell_type": "code",
   "execution_count": 2,
   "metadata": {},
   "outputs": [
    {
     "data": {
      "text/html": [
       "<div>\n",
       "<style scoped>\n",
       "    .dataframe tbody tr th:only-of-type {\n",
       "        vertical-align: middle;\n",
       "    }\n",
       "\n",
       "    .dataframe tbody tr th {\n",
       "        vertical-align: top;\n",
       "    }\n",
       "\n",
       "    .dataframe thead th {\n",
       "        text-align: right;\n",
       "    }\n",
       "</style>\n",
       "<table border=\"1\" class=\"dataframe\">\n",
       "  <thead>\n",
       "    <tr style=\"text-align: right;\">\n",
       "      <th></th>\n",
       "      <th>Season</th>\n",
       "      <th>DayNum</th>\n",
       "      <th>WTeamID</th>\n",
       "      <th>WScore</th>\n",
       "      <th>LTeamID</th>\n",
       "      <th>LScore</th>\n",
       "      <th>WLoc</th>\n",
       "      <th>NumOT</th>\n",
       "    </tr>\n",
       "  </thead>\n",
       "  <tbody>\n",
       "    <tr>\n",
       "      <th>0</th>\n",
       "      <td>1985</td>\n",
       "      <td>20</td>\n",
       "      <td>1228</td>\n",
       "      <td>81</td>\n",
       "      <td>1328</td>\n",
       "      <td>64</td>\n",
       "      <td>N</td>\n",
       "      <td>0</td>\n",
       "    </tr>\n",
       "    <tr>\n",
       "      <th>1</th>\n",
       "      <td>1985</td>\n",
       "      <td>25</td>\n",
       "      <td>1106</td>\n",
       "      <td>77</td>\n",
       "      <td>1354</td>\n",
       "      <td>70</td>\n",
       "      <td>H</td>\n",
       "      <td>0</td>\n",
       "    </tr>\n",
       "    <tr>\n",
       "      <th>2</th>\n",
       "      <td>1985</td>\n",
       "      <td>25</td>\n",
       "      <td>1112</td>\n",
       "      <td>63</td>\n",
       "      <td>1223</td>\n",
       "      <td>56</td>\n",
       "      <td>H</td>\n",
       "      <td>0</td>\n",
       "    </tr>\n",
       "    <tr>\n",
       "      <th>3</th>\n",
       "      <td>1985</td>\n",
       "      <td>25</td>\n",
       "      <td>1165</td>\n",
       "      <td>70</td>\n",
       "      <td>1432</td>\n",
       "      <td>54</td>\n",
       "      <td>H</td>\n",
       "      <td>0</td>\n",
       "    </tr>\n",
       "    <tr>\n",
       "      <th>4</th>\n",
       "      <td>1985</td>\n",
       "      <td>25</td>\n",
       "      <td>1192</td>\n",
       "      <td>86</td>\n",
       "      <td>1447</td>\n",
       "      <td>74</td>\n",
       "      <td>H</td>\n",
       "      <td>0</td>\n",
       "    </tr>\n",
       "  </tbody>\n",
       "</table>\n",
       "</div>"
      ],
      "text/plain": [
       "   Season  DayNum  WTeamID  WScore  LTeamID  LScore WLoc  NumOT\n",
       "0    1985      20     1228      81     1328      64    N      0\n",
       "1    1985      25     1106      77     1354      70    H      0\n",
       "2    1985      25     1112      63     1223      56    H      0\n",
       "3    1985      25     1165      70     1432      54    H      0\n",
       "4    1985      25     1192      86     1447      74    H      0"
      ]
     },
     "execution_count": 2,
     "metadata": {},
     "output_type": "execute_result"
    }
   ],
   "source": [
    "df2.head()"
   ]
  },
  {
   "cell_type": "code",
   "execution_count": 14,
   "metadata": {},
   "outputs": [],
   "source": [
    "import pandas as pd\n",
    "a = pd.read_csv('../input/NCAATourneySeeds_SampleTourney2018.csv')"
   ]
  },
  {
   "cell_type": "code",
   "execution_count": 16,
   "metadata": {},
   "outputs": [
    {
     "data": {
      "text/plain": [
       "(2218, 3)"
      ]
     },
     "execution_count": 16,
     "metadata": {},
     "output_type": "execute_result"
    }
   ],
   "source": [
    "a.shape"
   ]
  },
  {
   "cell_type": "code",
   "execution_count": 11,
   "metadata": {},
   "outputs": [
    {
     "data": {
      "text/plain": [
       "(67, 12)"
      ]
     },
     "execution_count": 11,
     "metadata": {},
     "output_type": "execute_result"
    }
   ],
   "source": []
  },
  {
   "cell_type": "code",
   "execution_count": null,
   "metadata": {},
   "outputs": [],
   "source": []
  }
 ],
 "metadata": {
  "kernelspec": {
   "display_name": "Python 3",
   "language": "python",
   "name": "python3"
  },
  "language_info": {
   "codemirror_mode": {
    "name": "ipython",
    "version": 3
   },
   "file_extension": ".py",
   "mimetype": "text/x-python",
   "name": "python",
   "nbconvert_exporter": "python",
   "pygments_lexer": "ipython3",
   "version": "3.5.4"
  }
 },
 "nbformat": 4,
 "nbformat_minor": 2
}
