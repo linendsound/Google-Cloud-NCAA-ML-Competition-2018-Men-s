{
 "cells": [
  {
   "cell_type": "code",
   "execution_count": null,
   "metadata": {},
   "outputs": [
    {
     "name": "stderr",
     "output_type": "stream",
     "text": [
      "C:\\Users\\lin\\Anaconda3\\lib\\site-packages\\pandas\\core\\indexing.py:194: SettingWithCopyWarning: \n",
      "A value is trying to be set on a copy of a slice from a DataFrame\n",
      "\n",
      "See the caveats in the documentation: http://pandas.pydata.org/pandas-docs/stable/indexing.html#indexing-view-versus-copy\n",
      "  self._setitem_with_indexer(indexer, value)\n"
     ]
    }
   ],
   "source": [
    "import pandas as pd\n",
    "df1= pd.read_csv(\"../input/NCAATourneyCompactResults.csv\")\n",
    "df2= pd.read_csv(\"../input/RegularSeasonCompactResults.csv\")\n",
    "df3 = pd.read_csv(\"../input/NCAATourneySeeds.csv\")\n",
    "df1[\"WTseed\"]=\"\"\n",
    "df1[\"LTseed\"]=\"\"\n",
    "\n",
    "def seed_in(df1,df2):\n",
    "    df1=df1.reset_index()\n",
    "    df2=df2.reset_index()\n",
    "    for i in range(len(df1)):\n",
    "        for j in range(len(df2)):\n",
    "            if df1[\"WTeamID\"][i] == df2[\"TeamID\"][j]:\n",
    "                df1[\"WTseed\"].loc[i]=df2[\"Seed\"][j][1:]\n",
    "    for i in range(len(df1)):\n",
    "        for j in range(len(df2)):\n",
    "            if df1[\"LTeamID\"][i] == df2[\"TeamID\"][j]:\n",
    "                df1[\"LTseed\"].loc[i]=df2[\"Seed\"][j][1:]\n",
    "    return df1\n",
    "\n",
    "\n",
    "def whole_season(year, df):\n",
    "    Regular_year1 = df1[df1[\"Season\"] == year]\n",
    "    Tourney_year1 = df2[df2[\"Season\"] == year]\n",
    "    Whole_year1 = pd.concat([Regular_year1, Tourney_year1], ignore_index=True)\n",
    "    Seed = df[df[\"Season\"]==year]\n",
    "    Whole_year=seed_in(Whole_year1,Seed)\n",
    "    return Whole_year\n",
    "\n",
    "\n",
    "def datamake(year1,year2,year3,df1,df3):\n",
    "    Whole_year1=whole_season(year1,df3)\n",
    "    Whole_year2 = whole_season(year2, df3)\n",
    "    Seed = df3[df3[\"Season\"] == year3]\n",
    "    Regular_year3 = df1[df1[\"Season\"] == year3]\n",
    "    Regular_year3 = seed_in(Regular_year3,Seed)\n",
    "    data = pd.concat([Regular_year3,Whole_year1,Whole_year2],ignore_index=True)\n",
    "    return data\n",
    "\n",
    "\n",
    "train_2014 = datamake(2012,2013,2014,df1,df3)\n",
    "train_2015 = datamake(2013,2014,2015,df1,df3)\n",
    "train_2016 = datamake(2014,2015,206,df1,df3)\n",
    "train_2017 =datamake(2015,2016,2017,df1,df3)\n",
    "\n",
    "train_2014.to_csv(\"../output/train_2014.csv\")\n",
    "train_2015.to_csv(\"../output/train_2015.cvv\")\n",
    "train_2016.to_csv(\"../output/train_2016.csv\")\n",
    "train_2017.to_csv(\"../output/train_2017.csv\")\n"
   ]
  },
  {
   "cell_type": "code",
   "execution_count": null,
   "metadata": {},
   "outputs": [],
   "source": []
  }
 ],
 "metadata": {
  "kernelspec": {
   "display_name": "Python 3",
   "language": "python",
   "name": "python3"
  },
  "language_info": {
   "codemirror_mode": {
    "name": "ipython",
    "version": 3
   },
   "file_extension": ".py",
   "mimetype": "text/x-python",
   "name": "python",
   "nbconvert_exporter": "python",
   "pygments_lexer": "ipython3",
   "version": "3.5.4"
  }
 },
 "nbformat": 4,
 "nbformat_minor": 2
}
